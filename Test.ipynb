{
 "metadata": {
  "language_info": {
   "codemirror_mode": {
    "name": "ipython",
    "version": 3
   "file_extension": ".py",
   "mimetype": "text/x-python",
   "name": "python",
   "nbconvert_exporter": "python",
   "pygments_lexer": "ipython3",
   "version": "3.8.6-final"
  },
  "orig_nbformat": 2,
  "kernelspec": {
   "name": "Python 3.8.6 64-bit ('LicensePlateReader': conda)",
   "display_name": "Python 3.8.6 64-bit ('LicensePlateReader': conda)",
   "metadata": {
    "interpreter": {
     "hash": "6a38db734fbf03a5fdb065cd56001d0db18817b70f4f46886f1278232c11a77d"
    }
   }
  }
 },
 "nbformat": 4,
 "nbformat_minor": 2,
 "cells": [
  {
   "cell_type": "code",
   "execution_count": 2,
   "metadata": {},
   "outputs": [],
   "source": [
    "from skimage.segmentation import clear_border\n",
    "import pytesseract\n",
    "import numpy as np\n",
    "import imutils\n",
    "import cv2\n",
    "\n",
    "pytesseract.pytesseract.tesseract_cmd = r'C:\\Program Files\\Tesseract-OCR\\tesseract.exe'"
   ]
  },
  {
   "cell_type": "code",
   "execution_count": 4,
   "metadata": {},
   "outputs": [
    {
     "output_type": "execute_result",
     "data": {
      "text/plain": [
       "'cv2.imshow(\"Gray\",gray)\\ncv2.waitKey(0)\\ncv2.destroyWindow(\"Gray\")'"
      ]
     },
     "metadata": {},
     "execution_count": 4
    }
   ],
   "source": [
    "gray=cv2.imread('C:\\\\Users\\\\Janson Liew\\\\Desktop\\\\Malaysia-License-Plate-Reader\\\\license_plates\\\\group1\\\\5.jpg',0)\n",
    "\n",
    "scale_percent = 60 # percent of original size\n",
    "width = int(gray.shape[1] * scale_percent / 100)\n",
    "height = int(gray.shape[0] * scale_percent / 100)\n",
    "dim = (width, height)\n",
    "# resize image\n",
    "gray = cv2.resize(gray, dim, interpolation = cv2.INTER_AREA)\n",
    "\"\"\"cv2.imshow(\"Gray\",gray)\n",
    "cv2.waitKey(0)\n",
    "cv2.destroyWindow(\"Gray\")\"\"\""
   ]
  },
  {
   "cell_type": "code",
   "execution_count": 6,
   "metadata": {},
   "outputs": [
    {
     "output_type": "execute_result",
     "data": {
      "text/plain": [
       "'cv2.imshow(\"Thresh\",thresh)\\ncv2.imshow(\"Thresh2\",thresh2)\\ncv2.waitKey(0)\\ncv2.destroyAllWindows()'"
      ]
     },
     "metadata": {},
     "execution_count": 6
    }
   ],
   "source": [
    "thresh = cv2.adaptiveThreshold(gray, 255, cv2.ADAPTIVE_THRESH_MEAN_C, cv2.THRESH_BINARY,11,2);\n",
    "thresh2 = cv2.threshold(cv2.GaussianBlur(gray,(3,3),0), 0, 255, cv2.THRESH_BINARY | cv2.THRESH_OTSU)[1]\n",
    "\n",
    "\"\"\"cv2.imshow(\"Thresh\",thresh)\n",
    "cv2.imshow(\"Thresh2\",thresh2)\n",
    "cv2.waitKey(0)\n",
    "cv2.destroyAllWindows()\"\"\""
   ]
  },
  {
   "cell_type": "code",
   "execution_count": 8,
   "metadata": {},
   "outputs": [
    {
     "output_type": "execute_result",
     "data": {
      "text/plain": [
       "'cv2.imshow(\"Tophat\",tophat)\\ncv2.imshow(\"Tophat2\",tophat2)\\ncv2.waitKey(0)\\ncv2.destroyAllWindows()'"
      ]
     },
     "metadata": {},
     "execution_count": 8
    }
   ],
   "source": [
    "rectKern = cv2.getStructuringElement(cv2.MORPH_RECT, (13, 5))\n",
    "tophat= cv2.morphologyEx(gray, cv2.MORPH_TOPHAT, rectKern)\n",
    "tophat2= cv2.morphologyEx(cv2.GaussianBlur(gray,(5,5),0), cv2.MORPH_TOPHAT, rectKern)\n",
    "\n",
    "\"\"\"cv2.imshow(\"Tophat\",tophat)\n",
    "cv2.imshow(\"Tophat2\",tophat2)\n",
    "cv2.waitKey(0)\n",
    "cv2.destroyAllWindows()\"\"\""
   ]
  },
  {
   "cell_type": "code",
   "execution_count": 10,
   "metadata": {},
   "outputs": [
    {
     "output_type": "execute_result",
     "data": {
      "text/plain": [
       "\"cv2.imshow('image',threshout)\\ncv2.imshow('image2',threshout2)\\ncv2.imshow('image3 ',threshout3)\\ncv2.imshow('image4',threshout4)\\ncv2.waitKey(0)\\ncv2.destroyAllWindows()\""
      ]
     },
     "metadata": {},
     "execution_count": 10
    }
   ],
   "source": [
    "threshout=cv2.Canny(tophat2.copy(),0,200)\n",
    "threshout2=cv2.Canny(tophat2.copy(),50,200)\n",
    "threshout3=cv2.Canny(tophat2.copy(),100,200)\n",
    "threshout4=cv2.Canny(tophat2.copy(),255,255)\n",
    "\n",
    "\"\"\"cv2.imshow('image',threshout)\n",
    "cv2.imshow('image2',threshout2)\n",
    "cv2.imshow('image3 ',threshout3)\n",
    "cv2.imshow('image4',threshout4)\n",
    "cv2.waitKey(0)\n",
    "cv2.destroyAllWindows()\"\"\""
   ]
  },
  {
   "cell_type": "code",
   "execution_count": 16,
   "metadata": {},
   "outputs": [
    {
     "output_type": "execute_result",
     "data": {
      "text/plain": [
       "'cv2.imshow(\\'image4\\',threshout4)\\ncv2.imshow(\"Scharr\", gradX)\\ncv2.waitKey(0)\\ncv2.destroyAllWindows()'"
      ]
     },
     "metadata": {},
     "execution_count": 16
    }
   ],
   "source": [
    "gradX = np.absolute(threshout4)\n",
    "(minVal, maxVal) = (np.min(gradX), np.max(gradX))\n",
    "gradX = 255 * ((gradX - minVal) / (maxVal - minVal))\n",
    "gradX = gradX.astype(\"uint8\")\n",
    "\"\"\"cv2.imshow('image4',threshout4)\n",
    "cv2.imshow(\"Scharr\", gradX)\n",
    "cv2.waitKey(0)\n",
    "cv2.destroyAllWindows()\"\"\""
   ]
  },
  {
   "cell_type": "code",
   "execution_count": 17,
   "metadata": {},
   "outputs": [
    {
     "output_type": "execute_result",
     "data": {
      "text/plain": [
       "'cv2.imshow(\\'image4\\',threshout4)\\ncv2.imshow(\"Scharr\", gradX)\\ncv2.imshow(\"After Blur\", gradXB)\\ncv2.imshow(\"After Close Morph\", gradXBM)\\ncv2.imshow(\"Grad Thresh\", threshXB)\\ncv2.waitKey(0)\\ncv2.destroyAllWindows()'"
      ]
     },
     "metadata": {},
     "execution_count": 17
    }
   ],
   "source": [
    "gradXB = cv2.GaussianBlur(gradX, (5, 5), 0)\n",
    "gradXBM = cv2.morphologyEx(gradXB, cv2.MORPH_CLOSE, rectKern)\n",
    "threshXB = cv2.threshold(gradXBM, 0, 255,cv2.THRESH_BINARY | cv2.THRESH_OTSU)[1]\n",
    "\"\"\"cv2.imshow('image4',threshout4)\n",
    "cv2.imshow(\"Scharr\", gradX)\n",
    "cv2.imshow(\"After Blur\", gradXB)\n",
    "cv2.imshow(\"After Close Morph\", gradXBM)\n",
    "cv2.imshow(\"Grad Thresh\", threshXB)\n",
    "cv2.waitKey(0)\n",
    "cv2.destroyAllWindows()\"\"\""
   ]
  },
  {
   "cell_type": "code",
   "execution_count": 18,
   "metadata": {},
   "outputs": [
    {
     "output_type": "execute_result",
     "data": {
      "text/plain": [
       "'cv2.imshow(\"Grad Thresh\", threshXB)\\ncv2.imshow(\"Grad Erode\", threshXBE)\\ncv2.imshow(\"Grad Erode Dilate\", threshXBED)\\ncv2.waitKey(0)\\ncv2.destroyAllWindows()'"
      ]
     },
     "metadata": {},
     "execution_count": 18
    }
   ],
   "source": [
    "threshXBE = cv2.erode(threshXB, None, iterations=2)\n",
    "threshXBED = cv2.dilate(threshXBE, None, iterations=2)\n",
    "\"\"\"cv2.imshow(\"Grad Thresh\", threshXB)\n",
    "cv2.imshow(\"Grad Erode\", threshXBE)\n",
    "cv2.imshow(\"Grad Erode Dilate\", threshXBED)\n",
    "cv2.waitKey(0)\n",
    "cv2.destroyAllWindows()\"\"\""
   ]
  },
  {
   "cell_type": "code",
   "execution_count": 19,
   "metadata": {},
   "outputs": [
    {
     "output_type": "execute_result",
     "data": {
      "text/plain": [
       "'cv2.imshow(\"Grad Erode Dilate\", threshXBED)\\t\\ncv2.imshow(\"Light Regions\", lightMT)\\ncv2.waitKey(0)\\ncv2.destroyAllWindows()'"
      ]
     },
     "metadata": {},
     "execution_count": 19
    }
   ],
   "source": [
    "squareKern = cv2.getStructuringElement(cv2.MORPH_RECT, (3, 3))\n",
    "lightM = cv2.morphologyEx(threshout4, cv2.MORPH_CLOSE, squareKern)\n",
    "#light = cv2.threshold(light, 0, 255, cv2.THRESH_BINARY | cv2.THRESH_OTSU)[1]\n",
    "lightMT = cv2.adaptiveThreshold(lightM, 255, cv2.ADAPTIVE_THRESH_MEAN_C, cv2.THRESH_BINARY,11,2);\t\n",
    "\"\"\"cv2.imshow(\"Grad Erode Dilate\", threshXBED)\t\n",
    "cv2.imshow(\"Light Regions\", lightMT)\n",
    "cv2.waitKey(0)\n",
    "cv2.destroyAllWindows()\"\"\""
   ]
  },
  {
   "cell_type": "code",
   "execution_count": 20,
   "metadata": {},
   "outputs": [],
   "source": [
    "threshA = cv2.bitwise_and(threshXBED, threshXBED, mask=lightMT)\n",
    "threshA = cv2.dilate(threshA, None, iterations=2)\n",
    "threshA = cv2.erode(threshA, None, iterations=1)\n",
    "cv2.imshow(\"Grad Erode Dilate\", threshXBED)\t\n",
    "cv2.imshow(\"Light Regions\", lightMT)\n",
    "cv2.imshow(\"Final\", threshA)\n",
    "cv2.waitKey(0)\n",
    "cv2.destroyAllWindows()"
   ]
  },
  {
   "cell_type": "code",
   "execution_count": 21,
   "metadata": {},
   "outputs": [],
   "source": [
    "cnts = cv2.findContours(threshA.copy(), cv2.RETR_EXTERNAL,\n",
    "\t\t\tcv2.CHAIN_APPROX_SIMPLE)\n",
    "cnts = imutils.grab_contours(cnts)\n",
    "#cnts = sorted(cnts, key=cv2.contourArea, reverse=True)[:keep]\n",
    "cnts = sorted(cnts, key=cv2.contourArea, reverse=True)[:5]\n"
   ]
  },
  {
   "cell_type": "code",
   "execution_count": 22,
   "metadata": {},
   "outputs": [],
   "source": [
    "lpCnt = None\n",
    "roi = None\n",
    "candidates=cnts\n",
    "\n",
    "for c in candidates:\n",
    "    (x, y, w, h) = cv2.boundingRect(c)\n",
    "    ar = w / float(h)\n",
    "    lpCnt = c\n",
    "    licensePlate = gray[y:y + h, x:x + w]\n",
    "    roi = cv2.threshold(licensePlate, 0, 255,cv2.THRESH_BINARY_INV | cv2.THRESH_OTSU)[1]\n",
    "    cv2.imshow(\"License Plate\", licensePlate)\n",
    "    cv2.imshow(\"ROI\", roi)\n",
    "    cv2.waitKey(0)\n",
    "    cv2.destroyAllWindows()\n",
    "    break"
   ]
  },
  {
   "cell_type": "code",
   "execution_count": null,
   "metadata": {},
   "outputs": [],
   "source": []
  }
 ]
}